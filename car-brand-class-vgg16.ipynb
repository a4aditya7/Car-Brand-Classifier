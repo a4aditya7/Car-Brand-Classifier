{
 "cells": [
  {
   "cell_type": "code",
   "execution_count": 5,
   "id": "922cdd89",
   "metadata": {},
   "outputs": [],
   "source": [
    "from keras.layers import Input, Lambda, Dense, Flatten\n",
    "from keras.models import Model\n",
    "from keras.applications.vgg16 import VGG16\n",
    "from keras.applications.vgg16 import preprocess_input\n",
    "from keras.preprocessing import image\n",
    "from keras.preprocessing.image import ImageDataGenerator,load_img\n",
    "from keras.models import Sequential\n",
    "import numpy as np\n",
    "from glob import glob\n",
    "import matplotlib.pyplot as plt"
   ]
  },
  {
   "cell_type": "code",
   "execution_count": 6,
   "id": "e8c270cf",
   "metadata": {},
   "outputs": [],
   "source": [
    "IMAGE_SIZE = [224, 224]\n",
    "IMAGE_SIZE = [224, 224]\n",
    "\n",
    "train_path = 'Datasets/train'\n",
    "valid_path = 'Datasets/test'"
   ]
  },
  {
   "cell_type": "code",
   "execution_count": 8,
   "id": "4ad279fb",
   "metadata": {},
   "outputs": [
    {
     "name": "stdout",
     "output_type": "stream",
     "text": [
      "Downloading data from https://storage.googleapis.com/tensorflow/keras-applications/vgg16/vgg16_weights_tf_dim_ordering_tf_kernels_notop.h5\n",
      "58889256/58889256 [==============================] - 11s 0us/step\n"
     ]
    }
   ],
   "source": [
    "vgg = VGG16(input_shape=IMAGE_SIZE + [3], weights='imagenet', include_top=False)"
   ]
  },
  {
   "cell_type": "code",
   "execution_count": 9,
   "id": "9d876f35",
   "metadata": {},
   "outputs": [],
   "source": [
    "for layer in vgg.layers:\n",
    "  layer.trainable = False"
   ]
  },
  {
   "cell_type": "code",
   "execution_count": 10,
   "id": "bca9e5ef",
   "metadata": {},
   "outputs": [],
   "source": [
    "folders = glob('Datasets/train/*')"
   ]
  },
  {
   "cell_type": "code",
   "execution_count": 11,
   "id": "01416a33",
   "metadata": {},
   "outputs": [],
   "source": [
    "x = Flatten()(vgg.output)"
   ]
  },
  {
   "cell_type": "code",
   "execution_count": 12,
   "id": "90a10f4f",
   "metadata": {},
   "outputs": [],
   "source": [
    "prediction = Dense(len(folders), activation='softmax')(x)"
   ]
  },
  {
   "cell_type": "code",
   "execution_count": 13,
   "id": "153d18ef",
   "metadata": {},
   "outputs": [],
   "source": [
    "model = Model(inputs=vgg.input, outputs=prediction)"
   ]
  },
  {
   "cell_type": "code",
   "execution_count": 14,
   "id": "2640c0e3",
   "metadata": {},
   "outputs": [
    {
     "name": "stdout",
     "output_type": "stream",
     "text": [
      "Model: \"model\"\n",
      "_________________________________________________________________\n",
      " Layer (type)                Output Shape              Param #   \n",
      "=================================================================\n",
      " input_1 (InputLayer)        [(None, 224, 224, 3)]     0         \n",
      "                                                                 \n",
      " block1_conv1 (Conv2D)       (None, 224, 224, 64)      1792      \n",
      "                                                                 \n",
      " block1_conv2 (Conv2D)       (None, 224, 224, 64)      36928     \n",
      "                                                                 \n",
      " block1_pool (MaxPooling2D)  (None, 112, 112, 64)      0         \n",
      "                                                                 \n",
      " block2_conv1 (Conv2D)       (None, 112, 112, 128)     73856     \n",
      "                                                                 \n",
      " block2_conv2 (Conv2D)       (None, 112, 112, 128)     147584    \n",
      "                                                                 \n",
      " block2_pool (MaxPooling2D)  (None, 56, 56, 128)       0         \n",
      "                                                                 \n",
      " block3_conv1 (Conv2D)       (None, 56, 56, 256)       295168    \n",
      "                                                                 \n",
      " block3_conv2 (Conv2D)       (None, 56, 56, 256)       590080    \n",
      "                                                                 \n",
      " block3_conv3 (Conv2D)       (None, 56, 56, 256)       590080    \n",
      "                                                                 \n",
      " block3_pool (MaxPooling2D)  (None, 28, 28, 256)       0         \n",
      "                                                                 \n",
      " block4_conv1 (Conv2D)       (None, 28, 28, 512)       1180160   \n",
      "                                                                 \n",
      " block4_conv2 (Conv2D)       (None, 28, 28, 512)       2359808   \n",
      "                                                                 \n",
      " block4_conv3 (Conv2D)       (None, 28, 28, 512)       2359808   \n",
      "                                                                 \n",
      " block4_pool (MaxPooling2D)  (None, 14, 14, 512)       0         \n",
      "                                                                 \n",
      " block5_conv1 (Conv2D)       (None, 14, 14, 512)       2359808   \n",
      "                                                                 \n",
      " block5_conv2 (Conv2D)       (None, 14, 14, 512)       2359808   \n",
      "                                                                 \n",
      " block5_conv3 (Conv2D)       (None, 14, 14, 512)       2359808   \n",
      "                                                                 \n",
      " block5_pool (MaxPooling2D)  (None, 7, 7, 512)         0         \n",
      "                                                                 \n",
      " flatten (Flatten)           (None, 25088)             0         \n",
      "                                                                 \n",
      " dense (Dense)               (None, 7)                 175623    \n",
      "                                                                 \n",
      "=================================================================\n",
      "Total params: 14890311 (56.80 MB)\n",
      "Trainable params: 175623 (686.03 KB)\n",
      "Non-trainable params: 14714688 (56.13 MB)\n",
      "_________________________________________________________________\n"
     ]
    }
   ],
   "source": [
    "model.summary()"
   ]
  },
  {
   "cell_type": "code",
   "execution_count": 15,
   "id": "a8631a3c",
   "metadata": {},
   "outputs": [],
   "source": [
    "model.compile(\n",
    "  loss='categorical_crossentropy',\n",
    "  optimizer='adam',\n",
    "  metrics=['accuracy']\n",
    ")"
   ]
  },
  {
   "cell_type": "code",
   "execution_count": 16,
   "id": "c329f4ff",
   "metadata": {},
   "outputs": [],
   "source": [
    "from keras.preprocessing.image import ImageDataGenerator"
   ]
  },
  {
   "cell_type": "code",
   "execution_count": 17,
   "id": "c252acdc",
   "metadata": {},
   "outputs": [],
   "source": [
    "from tensorflow.keras.preprocessing.image import ImageDataGenerator\n",
    "\n",
    "train_datagen = ImageDataGenerator(rescale = 1./255,\n",
    "                                   shear_range = 0.2,\n",
    "                                   zoom_range = 0.2,\n",
    "                                   horizontal_flip = True)\n",
    "\n",
    "test_datagen = ImageDataGenerator(rescale = 1./255)"
   ]
  },
  {
   "cell_type": "code",
   "execution_count": 18,
   "id": "3027470c",
   "metadata": {},
   "outputs": [
    {
     "name": "stdout",
     "output_type": "stream",
     "text": [
      "Found 3352 images belonging to 7 classes.\n"
     ]
    }
   ],
   "source": [
    "training_set = train_datagen.flow_from_directory('Datasets/train',\n",
    "                                                 target_size = (224, 224),\n",
    "                                                 batch_size = 32,\n",
    "                                                 class_mode = 'categorical')"
   ]
  },
  {
   "cell_type": "code",
   "execution_count": 19,
   "id": "19799a34",
   "metadata": {},
   "outputs": [
    {
     "name": "stdout",
     "output_type": "stream",
     "text": [
      "Found 813 images belonging to 7 classes.\n"
     ]
    }
   ],
   "source": [
    "test_set = test_datagen.flow_from_directory('Datasets/Test',\n",
    "                                            target_size = (224, 224),\n",
    "                                            batch_size = 32,\n",
    "                                            class_mode = 'categorical')"
   ]
  },
  {
   "cell_type": "code",
   "execution_count": 21,
   "id": "78f6e6c4",
   "metadata": {},
   "outputs": [
    {
     "name": "stdout",
     "output_type": "stream",
     "text": [
      "Epoch 1/20\n",
      "105/105 [==============================] - 451s 4s/step - loss: 0.1683 - accuracy: 0.9555 - val_loss: 0.3065 - val_accuracy: 0.9041\n",
      "Epoch 2/20\n",
      "105/105 [==============================] - 450s 4s/step - loss: 0.1255 - accuracy: 0.9702 - val_loss: 0.3437 - val_accuracy: 0.8893\n",
      "Epoch 3/20\n",
      "105/105 [==============================] - 463s 4s/step - loss: 0.1095 - accuracy: 0.9737 - val_loss: 0.2966 - val_accuracy: 0.9127\n",
      "Epoch 4/20\n",
      "105/105 [==============================] - 465s 4s/step - loss: 0.0950 - accuracy: 0.9779 - val_loss: 0.3071 - val_accuracy: 0.9028\n",
      "Epoch 5/20\n",
      "105/105 [==============================] - 455s 4s/step - loss: 0.0691 - accuracy: 0.9848 - val_loss: 0.2471 - val_accuracy: 0.9262\n",
      "Epoch 6/20\n",
      "105/105 [==============================] - 451s 4s/step - loss: 0.0577 - accuracy: 0.9869 - val_loss: 0.2779 - val_accuracy: 0.9028\n",
      "Epoch 7/20\n",
      "105/105 [==============================] - 453s 4s/step - loss: 0.0627 - accuracy: 0.9869 - val_loss: 0.3616 - val_accuracy: 0.8856\n",
      "Epoch 8/20\n",
      "105/105 [==============================] - 453s 4s/step - loss: 0.0653 - accuracy: 0.9839 - val_loss: 0.3122 - val_accuracy: 0.9127\n",
      "Epoch 9/20\n",
      "105/105 [==============================] - 453s 4s/step - loss: 0.0419 - accuracy: 0.9922 - val_loss: 0.2517 - val_accuracy: 0.9323\n",
      "Epoch 10/20\n",
      "105/105 [==============================] - 452s 4s/step - loss: 0.0351 - accuracy: 0.9943 - val_loss: 0.2663 - val_accuracy: 0.9188\n",
      "Epoch 11/20\n",
      "105/105 [==============================] - 450s 4s/step - loss: 0.0321 - accuracy: 0.9943 - val_loss: 0.2208 - val_accuracy: 0.9360\n",
      "Epoch 12/20\n",
      "105/105 [==============================] - 449s 4s/step - loss: 0.0254 - accuracy: 0.9973 - val_loss: 0.2275 - val_accuracy: 0.9336\n",
      "Epoch 13/20\n",
      "105/105 [==============================] - 450s 4s/step - loss: 0.0250 - accuracy: 0.9949 - val_loss: 0.2439 - val_accuracy: 0.9274\n",
      "Epoch 14/20\n",
      "105/105 [==============================] - 450s 4s/step - loss: 0.0296 - accuracy: 0.9940 - val_loss: 0.3220 - val_accuracy: 0.9164\n",
      "Epoch 15/20\n",
      "105/105 [==============================] - 453s 4s/step - loss: 0.0253 - accuracy: 0.9952 - val_loss: 0.2430 - val_accuracy: 0.9250\n",
      "Epoch 16/20\n",
      "105/105 [==============================] - 454s 4s/step - loss: 0.0357 - accuracy: 0.9919 - val_loss: 0.2558 - val_accuracy: 0.9250\n",
      "Epoch 17/20\n",
      "105/105 [==============================] - 453s 4s/step - loss: 0.0211 - accuracy: 0.9979 - val_loss: 0.2481 - val_accuracy: 0.9274\n",
      "Epoch 18/20\n",
      "105/105 [==============================] - 452s 4s/step - loss: 0.0283 - accuracy: 0.9934 - val_loss: 0.3186 - val_accuracy: 0.9213\n",
      "Epoch 19/20\n",
      "105/105 [==============================] - 454s 4s/step - loss: 0.0372 - accuracy: 0.9875 - val_loss: 0.3182 - val_accuracy: 0.9164\n",
      "Epoch 20/20\n",
      "105/105 [==============================] - 452s 4s/step - loss: 0.0159 - accuracy: 0.9985 - val_loss: 0.2747 - val_accuracy: 0.9287\n"
     ]
    }
   ],
   "source": [
    "r = model.fit(\n",
    "  training_set,\n",
    "  validation_data=test_set,\n",
    "  epochs=20,\n",
    "  steps_per_epoch=len(training_set),\n",
    "  validation_steps=len(test_set)\n",
    ")"
   ]
  },
  {
   "cell_type": "code",
   "execution_count": 22,
   "id": "86e49274",
   "metadata": {},
   "outputs": [
    {
     "data": {
      "image/png": "[encoded data removed]",
      "text/plain": [
       "<Figure size 640x480 with 1 Axes>"
      ]
     },
     "metadata": {},
     "output_type": "display_data"
    },
    {
     "data": {
      "image/png": "[encoded data removed]",
      "text/plain": [
       "<Figure size 640x480 with 1 Axes>"
      ]
     },
     "metadata": {},
     "output_type": "display_data"
    },
    {
     "data": {
      "text/plain": [
       "<Figure size 640x480 with 0 Axes>"
      ]
     },
     "metadata": {},
     "output_type": "display_data"
    }
   ],
   "source": [
    "\n",
    "plt.plot(r.history['loss'], label='train loss')\n",
    "plt.plot(r.history['val_loss'], label='val loss')\n",
    "plt.legend()\n",
    "plt.show()\n",
    "plt.savefig('LossVal_loss')\n",
    "\n",
    "\n",
    "plt.plot(r.history['accuracy'], label='train acc')\n",
    "plt.plot(r.history['val_accuracy'], label='val acc')\n",
    "plt.legend()\n",
    "plt.show()\n",
    "plt.savefig('AccVal_acc')"
   ]
  },
  {
   "cell_type": "code",
   "execution_count": 24,
   "id": "b025c51e",
   "metadata": {},
   "outputs": [],
   "source": [
    "from tensorflow.keras.models import load_model\n",
    "\n",
    "model.save('model_vgg16.keras')"
   ]
  },
  {
   "cell_type": "code",
   "execution_count": 25,
   "id": "c574a8d9",
   "metadata": {},
   "outputs": [
    {
     "name": "stdout",
     "output_type": "stream",
     "text": [
      "26/26 [==============================] - 160s 6s/step\n"
     ]
    }
   ],
   "source": [
    "y_pred = model.predict(test_set)"
   ]
  },
  {
   "cell_type": "code",
   "execution_count": 26,
   "id": "59806328",
   "metadata": {},
   "outputs": [
    {
     "data": {
      "text/plain": [
       "array([[1.4746154e-06, 6.1188644e-04, 5.1451148e-05, ..., 7.1260047e-08,\n",
       "        9.9933463e-01, 1.2698534e-07],\n",
       "       [4.1652005e-02, 3.6135163e-02, 6.5332213e-05, ..., 1.6670331e-04,\n",
       "        1.6841824e-04, 1.0443683e-03],\n",
       "       [4.6991835e-07, 1.0033997e-09, 2.4790660e-08, ..., 2.9901194e-08,\n",
       "        6.8966133e-10, 1.0118213e-09],\n",
       "       ...,\n",
       "       [2.1956244e-05, 1.1372113e-03, 2.5505298e-07, ..., 9.9877673e-01,\n",
       "        2.1585069e-05, 1.8077773e-05],\n",
       "       [3.5936278e-01, 6.3701940e-05, 2.8015060e-10, ..., 8.4705744e-04,\n",
       "        3.7667123e-06, 1.4708171e-07],\n",
       "       [9.9623954e-01, 6.7414912e-05, 1.1495698e-07, ..., 3.3868616e-07,\n",
       "        9.0255006e-04, 9.2777227e-05]], dtype=float32)"
      ]
     },
     "execution_count": 26,
     "metadata": {},
     "output_type": "execute_result"
    }
   ],
   "source": [
    "y_pred"
   ]
  },
  {
   "cell_type": "code",
   "execution_count": 27,
   "id": "806957dd",
   "metadata": {},
   "outputs": [],
   "source": [
    "import numpy as np\n",
    "y_pred = np.argmax(y_pred, axis=1)"
   ]
  },
  {
   "cell_type": "code",
   "execution_count": 28,
   "id": "575b2fb0",
   "metadata": {},
   "outputs": [
    {
     "data": {
      "text/plain": [
       "array([5, 3, 3, 0, 6, 6, 6, 3, 6, 2, 0, 0, 4, 3, 2, 0, 5, 4, 6, 5, 1, 0,\n",
       "       0, 6, 4, 6, 5, 6, 1, 0, 6, 6, 6, 5, 0, 0, 3, 2, 6, 2, 5, 5, 0, 3,\n",
       "       6, 2, 5, 0, 2, 6, 6, 4, 6, 6, 0, 0, 1, 6, 0, 6, 4, 6, 3, 6, 6, 2,\n",
       "       2, 6, 6, 1, 5, 5, 0, 5, 5, 1, 6, 0, 6, 1, 3, 2, 4, 1, 4, 0, 6, 5,\n",
       "       0, 6, 0, 6, 6, 3, 6, 0, 6, 6, 2, 3, 0, 3, 0, 5, 3, 3, 3, 0, 6, 6,\n",
       "       6, 6, 6, 0, 4, 0, 5, 6, 3, 6, 5, 6, 4, 6, 5, 4, 6, 6, 3, 3, 2, 2,\n",
       "       0, 2, 6, 0, 6, 0, 0, 0, 3, 1, 5, 0, 6, 0, 0, 6, 4, 0, 0, 3, 6, 6,\n",
       "       4, 6, 4, 0, 0, 2, 3, 1, 5, 0, 0, 6, 0, 4, 6, 0, 2, 3, 5, 3, 6, 1,\n",
       "       0, 5, 5, 6, 1, 6, 3, 3, 3, 4, 3, 5, 5, 5, 4, 2, 0, 1, 6, 2, 0, 0,\n",
       "       6, 0, 4, 6, 0, 1, 1, 6, 5, 4, 0, 4, 6, 6, 4, 6, 5, 4, 2, 6, 0, 4,\n",
       "       6, 0, 1, 3, 6, 1, 4, 3, 3, 5, 1, 2, 6, 0, 3, 6, 5, 6, 1, 0, 4, 2,\n",
       "       1, 6, 6, 4, 0, 0, 6, 1, 0, 5, 4, 2, 0, 6, 0, 2, 4, 6, 0, 6, 4, 0,\n",
       "       2, 5, 6, 0, 3, 6, 6, 6, 0, 3, 6, 4, 1, 2, 1, 5, 5, 6, 5, 4, 0, 0,\n",
       "       5, 5, 6, 6, 4, 3, 2, 6, 4, 4, 6, 0, 6, 6, 6, 3, 4, 5, 5, 5, 5, 4,\n",
       "       4, 6, 2, 3, 6, 0, 6, 3, 6, 0, 0, 5, 0, 0, 5, 6, 4, 5, 6, 0, 4, 1,\n",
       "       6, 1, 3, 4, 1, 5, 0, 0, 6, 4, 6, 0, 2, 5, 1, 6, 1, 0, 6, 6, 6, 3,\n",
       "       2, 6, 5, 0, 3, 6, 0, 4, 0, 2, 0, 4, 5, 0, 6, 5, 5, 6, 3, 2, 5, 0,\n",
       "       3, 0, 1, 3, 1, 2, 6, 6, 0, 5, 1, 2, 5, 5, 4, 4, 1, 0, 4, 4, 6, 5,\n",
       "       0, 0, 5, 1, 2, 3, 5, 2, 0, 6, 4, 2, 5, 1, 3, 0, 6, 5, 0, 0, 4, 4,\n",
       "       0, 0, 6, 5, 4, 1, 1, 6, 4, 0, 4, 5, 3, 0, 1, 3, 1, 6, 1, 6, 0, 5,\n",
       "       0, 2, 5, 4, 6, 6, 6, 3, 0, 3, 1, 5, 5, 0, 3, 5, 0, 3, 6, 5, 6, 3,\n",
       "       6, 5, 5, 3, 0, 1, 0, 0, 1, 6, 6, 3, 5, 4, 6, 2, 4, 5, 5, 0, 0, 6,\n",
       "       6, 4, 6, 0, 3, 5, 3, 6, 4, 5, 3, 0, 5, 0, 1, 4, 5, 1, 6, 1, 5, 0,\n",
       "       4, 1, 4, 6, 2, 6, 6, 6, 0, 0, 6, 3, 3, 5, 3, 2, 6, 1, 0, 6, 6, 4,\n",
       "       3, 1, 2, 6, 6, 4, 2, 6, 3, 6, 4, 6, 6, 3, 6, 5, 6, 5, 4, 0, 6, 5,\n",
       "       1, 4, 3, 0, 0, 3, 0, 1, 1, 5, 1, 5, 1, 0, 0, 6, 4, 5, 2, 6, 3, 2,\n",
       "       5, 1, 3, 1, 0, 5, 5, 1, 4, 4, 4, 4, 0, 4, 3, 2, 2, 3, 4, 6, 0, 5,\n",
       "       6, 2, 0, 0, 1, 5, 1, 4, 6, 0, 4, 6, 2, 0, 5, 0, 6, 3, 0, 6, 0, 1,\n",
       "       6, 0, 6, 6, 5, 6, 0, 6, 0, 5, 0, 2, 0, 4, 5, 0, 3, 3, 0, 2, 6, 3,\n",
       "       6, 0, 5, 5, 0, 5, 3, 5, 0, 6, 0, 0, 4, 2, 0, 2, 0, 0, 6, 4, 0, 4,\n",
       "       3, 4, 1, 1, 2, 6, 5, 4, 4, 2, 1, 0, 2, 3, 1, 0, 0, 1, 6, 3, 4, 0,\n",
       "       6, 1, 0, 4, 0, 6, 4, 1, 4, 5, 2, 2, 0, 4, 1, 6, 3, 0, 0, 6, 5, 6,\n",
       "       5, 4, 6, 6, 6, 0, 0, 6, 5, 6, 1, 5, 0, 6, 0, 0, 4, 0, 3, 0, 6, 6,\n",
       "       3, 6, 2, 5, 3, 4, 0, 3, 2, 3, 0, 4, 5, 2, 4, 1, 5, 4, 6, 0, 0, 2,\n",
       "       6, 2, 3, 4, 5, 0, 0, 2, 0, 5, 3, 2, 5, 4, 0, 0, 6, 0, 6, 4, 6, 3,\n",
       "       6, 0, 3, 5, 0, 3, 0, 0, 0, 3, 0, 4, 2, 3, 1, 6, 2, 6, 0, 4, 3, 6,\n",
       "       4, 0, 6, 5, 2, 2, 6, 4, 2, 0, 0, 6, 0, 6, 2, 4, 5, 4, 4, 3, 0],\n",
       "      dtype=int64)"
      ]
     },
     "execution_count": 28,
     "metadata": {},
     "output_type": "execute_result"
    }
   ],
   "source": [
    "y_pred"
   ]
  },
  {
   "cell_type": "code",
   "execution_count": 29,
   "id": "df64fdac",
   "metadata": {},
   "outputs": [],
   "source": [
    "from tensorflow.keras.models import load_model\n",
    "from tensorflow.keras.preprocessing import image"
   ]
  },
  {
   "cell_type": "code",
   "execution_count": 31,
   "id": "b60cb757",
   "metadata": {},
   "outputs": [],
   "source": [
    "model=load_model('model_vgg16.keras')"
   ]
  },
  {
   "cell_type": "code",
   "execution_count": 32,
   "id": "546d4425",
   "metadata": {},
   "outputs": [
    {
     "ename": "NameError",
     "evalue": "name 'img_data' is not defined",
     "output_type": "error",
     "traceback": [
      "\u001b[1;31m---------------------------------------------------------------------------\u001b[0m",
      "\u001b[1;31mNameError\u001b[0m                                 Traceback (most recent call last)",
      "Cell \u001b[1;32mIn[32], line 1\u001b[0m\n\u001b[1;32m----> 1\u001b[0m img_data\n",
      "\u001b[1;31mNameError\u001b[0m: name 'img_data' is not defined"
     ]
    }
   ],
   "source": [
    "img_data"
   ]
  },
  {
   "cell_type": "code",
   "execution_count": 33,
   "id": "8b6cab33",
   "metadata": {},
   "outputs": [],
   "source": [
    "img=image.load_img('Datasets/Test/Swift/677.jpg',target_size=(224,224))"
   ]
  },
  {
   "cell_type": "code",
   "execution_count": 34,
   "id": "86d2fca5",
   "metadata": {},
   "outputs": [
    {
     "data": {
      "text/plain": [
       "array([[[136., 135., 143.],\n",
       "        [138., 137., 145.],\n",
       "        [139., 138., 146.],\n",
       "        ...,\n",
       "        [142., 139., 146.],\n",
       "        [142., 139., 146.],\n",
       "        [140., 137., 144.]],\n",
       "\n",
       "       [[136., 135., 143.],\n",
       "        [138., 137., 145.],\n",
       "        [140., 139., 147.],\n",
       "        ...,\n",
       "        [143., 140., 147.],\n",
       "        [142., 139., 146.],\n",
       "        [141., 138., 145.]],\n",
       "\n",
       "       [[136., 135., 143.],\n",
       "        [138., 137., 145.],\n",
       "        [140., 139., 147.],\n",
       "        ...,\n",
       "        [143., 140., 147.],\n",
       "        [142., 139., 146.],\n",
       "        [141., 138., 145.]],\n",
       "\n",
       "       ...,\n",
       "\n",
       "       [[179., 152., 109.],\n",
       "        [138., 111.,  68.],\n",
       "        [154., 127.,  84.],\n",
       "        ...,\n",
       "        [125., 102.,  58.],\n",
       "        [139., 116.,  72.],\n",
       "        [170., 147., 103.]],\n",
       "\n",
       "       [[179., 152., 109.],\n",
       "        [138., 111.,  68.],\n",
       "        [154., 127.,  84.],\n",
       "        ...,\n",
       "        [125., 102.,  58.],\n",
       "        [139., 116.,  72.],\n",
       "        [170., 147., 103.]],\n",
       "\n",
       "       [[151., 124.,  81.],\n",
       "        [173., 146., 103.],\n",
       "        [163., 136.,  93.],\n",
       "        ...,\n",
       "        [156., 133.,  89.],\n",
       "        [134., 111.,  67.],\n",
       "        [154., 131.,  87.]]], dtype=float32)"
      ]
     },
     "execution_count": 34,
     "metadata": {},
     "output_type": "execute_result"
    }
   ],
   "source": [
    "x=image.img_to_array(img)\n",
    "x"
   ]
  },
  {
   "cell_type": "code",
   "execution_count": 35,
   "id": "5fc2fb79",
   "metadata": {},
   "outputs": [
    {
     "data": {
      "text/plain": [
       "(224, 224, 3)"
      ]
     },
     "execution_count": 35,
     "metadata": {},
     "output_type": "execute_result"
    }
   ],
   "source": [
    "x.shape"
   ]
  },
  {
   "cell_type": "code",
   "execution_count": 36,
   "id": "7d20864f",
   "metadata": {},
   "outputs": [],
   "source": [
    "x=x/255"
   ]
  },
  {
   "cell_type": "code",
   "execution_count": 37,
   "id": "01d94144",
   "metadata": {},
   "outputs": [
    {
     "data": {
      "text/plain": [
       "(1, 224, 224, 3)"
      ]
     },
     "execution_count": 37,
     "metadata": {},
     "output_type": "execute_result"
    }
   ],
   "source": [
    "x=np.expand_dims(x,axis=0)\n",
    "img_data=preprocess_input(x)\n",
    "img_data.shape"
   ]
  },
  {
   "cell_type": "code",
   "execution_count": 38,
   "id": "bcc8cfda",
   "metadata": {},
   "outputs": [
    {
     "name": "stdout",
     "output_type": "stream",
     "text": [
      "1/1 [==============================] - 0s 276ms/step\n"
     ]
    },
    {
     "data": {
      "text/plain": [
       "array([[1.5315570e-06, 1.3470912e-03, 2.1199429e-02, 1.3165276e-10,\n",
       "        1.4054592e-03, 9.7604650e-01, 1.5058585e-09]], dtype=float32)"
      ]
     },
     "execution_count": 38,
     "metadata": {},
     "output_type": "execute_result"
    }
   ],
   "source": [
    "model.predict(img_data)"
   ]
  },
  {
   "cell_type": "code",
   "execution_count": 39,
   "id": "0c357e7c",
   "metadata": {},
   "outputs": [
    {
     "name": "stdout",
     "output_type": "stream",
     "text": [
      "1/1 [==============================] - 0s 468ms/step\n"
     ]
    }
   ],
   "source": [
    "a=np.argmax(model.predict(img_data), axis=1)"
   ]
  },
  {
   "cell_type": "code",
   "execution_count": 40,
   "id": "93d4ccbd",
   "metadata": {},
   "outputs": [
    {
     "data": {
      "text/plain": [
       "array([5], dtype=int64)"
      ]
     },
     "execution_count": 40,
     "metadata": {},
     "output_type": "execute_result"
    }
   ],
   "source": [
    "a"
   ]
  },
  {
   "cell_type": "code",
   "execution_count": null,
   "id": "54f1b2d3",
   "metadata": {},
   "outputs": [],
   "source": []
  }
 ],
 "metadata": {
  "kernelspec": {
   "display_name": "Python 3 (ipykernel)",
   "language": "python",
   "name": "python3"
  },
  "language_info": {
   "codemirror_mode": {
    "name": "ipython",
    "version": 3
   },
   "file_extension": ".py",
   "mimetype": "text/x-python",
   "name": "python",
   "nbconvert_exporter": "python",
   "pygments_lexer": "ipython3",
   "version": "3.11.4"
  }
 },
 "nbformat": 4,
 "nbformat_minor": 5
}
